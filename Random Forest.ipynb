{
 "cells": [
  {
   "cell_type": "code",
   "execution_count": 13,
   "id": "47d02ee0",
   "metadata": {},
   "outputs": [],
   "source": [
    "import pandas as pd\n",
    "from sklearn.ensemble import RandomForestRegressor\n",
    "from sklearn.model_selection import train_test_split, RandomizedSearchCV\n",
    "from sklearn.metrics import mean_squared_error, r2_score\n",
    "import numpy as np\n",
    "\n",
    "def load_and_prepare_data(file_path):\n",
    "    data = pd.read_csv(file_path, parse_dates=['Date'], index_col='Date')\n",
    "    data_daily = data.resample('D').mean().fillna(method='ffill')\n",
    "    return data_daily\n"
   ]
  },
  {
   "cell_type": "code",
   "execution_count": 14,
   "id": "3ff83ede",
   "metadata": {},
   "outputs": [],
   "source": [
    "def feature_engineering(data):\n",
    "    # Add Moving Average (SMA) as a feature for the model\n",
    "    data['SMA_4'] = data['Close'].rolling(window=4).mean().fillna(method='bfill') \n",
    "    features = ['Open', 'High', 'Low', 'Volume', 'SMA_4']\n",
    "    X = data[features]\n",
    "    y = data['Close']\n",
    "    return X, y\n"
   ]
  },
  {
   "cell_type": "code",
   "execution_count": 15,
   "id": "33c81a81",
   "metadata": {},
   "outputs": [],
   "source": [
    "def train_random_forest(X_train, y_train):\n",
    "    # Random Forest Regressor initialization\n",
    "    rf_regressor = RandomForestRegressor(n_estimators=100, random_state=42)\n",
    "    rf_regressor.fit(X_train, y_train)\n",
    "    return rf_regressor"
   ]
  },
  {
   "cell_type": "code",
   "execution_count": 16,
   "id": "97d5b705",
   "metadata": {},
   "outputs": [],
   "source": [
    "def run_random_forest():\n",
    "    file_path = './Data/AAPL.csv'\n",
    "    data_daily = load_and_prepare_data(file_path)\n",
    "    X, y = feature_engineering(data_daily)\n",
    "    \n",
    "    # Splitting the dataset into train and test sets, 80%, 20%\n",
    "    X_train, X_test, y_train, y_test = train_test_split(X, y, test_size=0.2, random_state=42)\n",
    "    rf_regressor = train_random_forest(X_train, y_train)\n",
    "    # Predict\n",
    "    y_pred = rf_regressor.predict(X_test)\n",
    "    # Evaluate\n",
    "    mse_rf = mean_squared_error(y_test, y_pred)\n",
    "    r2_score_rf = r2_score(y_test, y_pred)\n",
    "    return mse_rf, r2_score_rf\n"
   ]
  },
  {
   "cell_type": "code",
   "execution_count": 17,
   "id": "d3dd453a",
   "metadata": {},
   "outputs": [
    {
     "name": "stdout",
     "output_type": "stream",
     "text": [
      "Mean Squared Error (Random Forest): 0.0590\n",
      "R² Score (Random Forest): 0.9999\n"
     ]
    }
   ],
   "source": [
    "mse_rf, r2_score_rf = run_random_forest()\n",
    "\n",
    "print(f\"Mean Squared Error (Random Forest): {mse_rf:.4f}\")\n",
    "print(f\"R² Score (Random Forest): {r2_score_rf:.4f}\")"
   ]
  },
  {
   "cell_type": "code",
   "execution_count": null,
   "id": "dbb91d51",
   "metadata": {},
   "outputs": [],
   "source": []
  }
 ],
 "metadata": {
  "kernelspec": {
   "display_name": "Python 3 (ipykernel)",
   "language": "python",
   "name": "python3"
  },
  "language_info": {
   "codemirror_mode": {
    "name": "ipython",
    "version": 3
   },
   "file_extension": ".py",
   "mimetype": "text/x-python",
   "name": "python",
   "nbconvert_exporter": "python",
   "pygments_lexer": "ipython3",
   "version": "3.11.5"
  }
 },
 "nbformat": 4,
 "nbformat_minor": 5
}
